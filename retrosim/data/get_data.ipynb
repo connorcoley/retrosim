{
 "cells": [
  {
   "cell_type": "code",
   "execution_count": 6,
   "metadata": {
    "code_folding": [
     6
    ]
   },
   "outputs": [
    {
     "name": "stdout",
     "output_type": "stream",
     "text": [
      "15151 rows with class value 1\n",
      "11896 rows with class value 2\n",
      "5662 rows with class value 3\n",
      "909 rows with class value 4\n",
      "672 rows with class value 5\n",
      "8237 rows with class value 6\n",
      "4614 rows with class value 7\n",
      "811 rows with class value 8\n",
      "1834 rows with class value 9\n",
      "230 rows with class value 10\n",
      "train    40008\n",
      "test      5007\n",
      "val       5001\n",
      "Name: dataset, dtype: int64\n"
     ]
    }
   ],
   "source": [
    "from __future__ import print_function, absolute_import\n",
    "import pandas as pd\n",
    "import numpy as np\n",
    "import time\n",
    "#from tqdm import tqdm \n",
    "\n",
    "def get_data_df(fpath='data_processed.csv'):\n",
    "    return pd.read_csv(fpath)\n",
    "\n",
    "def split_data_df(data, val_frac=0.1, test_frac=0.1, shuffle=False, seed=None):\n",
    "    # Define shuffling\n",
    "    if shuffle:\n",
    "        if seed is None:\n",
    "            np.random.seed(int(time.time()))\n",
    "        else:\n",
    "            np.random.seed(seed)\n",
    "        def shuffle_func(x):\n",
    "            np.random.shuffle(x)\n",
    "    else:\n",
    "        def shuffle_func(x):\n",
    "            pass\n",
    "\n",
    "    # Go through each class\n",
    "    classes = sorted(np.unique(data['class']))\n",
    "    for class_ in classes:\n",
    "        indeces = data.loc[data['class'] == class_].index\n",
    "        N = len(indeces)\n",
    "        print('{} rows with class value {}'.format(N, class_))\n",
    "\n",
    "        shuffle_func(indeces)\n",
    "        train_end = int((1.0 - val_frac - test_frac) * N)\n",
    "        val_end = int((1.0 - test_frac) * N)\n",
    "\n",
    "        for i in indeces[:train_end]:\n",
    "            #data.set_value(i, 'dataset', 'train')  # set_value() is deprecated since \n",
    "            data.at[i, 'dataset'] = 'train'\n",
    "        for i in indeces[train_end:val_end]:\n",
    "            #data.set_value(i, 'dataset', 'val')\n",
    "            data.at[i, 'dataset'] = 'val'\n",
    "        for i in indeces[val_end:]:\n",
    "            #data.set_value(i, 'dataset', 'test')\n",
    "            data.at[i, 'dataset'] = 'test'\n",
    "    print(data['dataset'].value_counts())\n",
    "\n",
    "    \n",
    "if __name__ == '__main__':\n",
    "    data = get_data_df()\n",
    "    split_data_df(data) "
   ]
  }
 ],
 "metadata": {
  "kernelspec": {
   "display_name": "Python 3",
   "language": "python",
   "name": "python3"
  },
  "language_info": {
   "codemirror_mode": {
    "name": "ipython",
    "version": 3
   },
   "file_extension": ".py",
   "mimetype": "text/x-python",
   "name": "python",
   "nbconvert_exporter": "python",
   "pygments_lexer": "ipython3",
   "version": "3.6.3"
  },
  "toc": {
   "nav_menu": {},
   "number_sections": true,
   "sideBar": true,
   "skip_h1_title": false,
   "toc_cell": false,
   "toc_position": {},
   "toc_section_display": "block",
   "toc_window_display": false
  }
 },
 "nbformat": 4,
 "nbformat_minor": 2
}
