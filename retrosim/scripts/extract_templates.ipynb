{
 "cells": [
  {
   "cell_type": "code",
   "execution_count": 1,
   "metadata": {},
   "outputs": [],
   "source": [
    "from __future__ import print_function\n",
    "from rdkit.Chem.Draw import IPythonConsole, ReactionToImage, MolToImage\n",
    "import pandas as pd\n",
    "import numpy as np\n",
    "import json\n",
    "import sys\n",
    "sys.path.append('../../')\n",
    "from retrosim.utils.draw import ReactionStringToImage, TransformStringToImage\n",
    "from retrosim.utils.generate_retro_templates import process_an_example\n",
    "from retrosim.data.get_data import get_data_df, split_data_df"
   ]
  },
  {
   "cell_type": "markdown",
   "metadata": {},
   "source": [
    "# label the 50,000 reactions as train/test/val in the ratio of 80%/10%/10% within each class"
   ]
  },
  {
   "cell_type": "code",
   "execution_count": 2,
   "metadata": {},
   "outputs": [
    {
     "name": "stdout",
     "output_type": "stream",
     "text": [
      "15151 rows with class value 1\n",
      "11896 rows with class value 2\n",
      "5662 rows with class value 3\n",
      "909 rows with class value 4\n",
      "672 rows with class value 5\n",
      "8237 rows with class value 6\n",
      "4614 rows with class value 7\n",
      "811 rows with class value 8\n",
      "1834 rows with class value 9\n",
      "230 rows with class value 10\n",
      "train    40008\n",
      "test      5007\n",
      "val       5001\n",
      "Name: dataset, dtype: int64\n"
     ]
    }
   ],
   "source": [
    "data = get_data_df('../data/data_processed.csv')\n",
    "split_data_df(data) # 80/10/10 within each class"
   ]
  },
  {
   "cell_type": "code",
   "execution_count": 3,
   "metadata": {
    "scrolled": true
   },
   "outputs": [
    {
     "name": "stdout",
     "output_type": "stream",
     "text": [
      "Br[c:1]1[n:2]([CH3:3])[cH:4][n:5][c:6]1-[c:7]1[cH:8][c:9]([C:10]#[N:11])[cH:12][cH:13][n:14]1.OB(O)[c:15]1[cH:16][cH:17][c:18](-[n:19]2[cH:20][cH:21][cH:22][n:23]2)[cH:24][cH:25]1>>[c:1]1(-[c:15]2[cH:16][cH:17][c:18](-[n:19]3[cH:20][cH:21][cH:22][n:23]3)[cH:24][cH:25]2)[n:2]([CH3:3])[cH:4][n:5][c:6]1-[c:7]1[cH:8][c:9]([C:10]#[N:11])[cH:12][cH:13][n:14]1\n"
     ]
    },
    {
     "data": {
      "image/png": "[encoded data removed]",
      "text/plain": [
       "<PIL.Image.Image image mode=RGB size=1082x261 at 0x7FA907363D30>"
      ]
     },
     "execution_count": 3,
     "metadata": {},
     "output_type": "execute_result"
    }
   ],
   "source": [
    "print(data['rxn_smiles'][5])\n",
    "ReactionStringToImage(data['rxn_smiles'][5])"
   ]
  },
  {
   "cell_type": "code",
   "execution_count": 4,
   "metadata": {},
   "outputs": [],
   "source": [
    "import multiprocessing\n",
    "num_cores = multiprocessing.cpu_count()\n",
    "#inputs = list(data.loc[data['dataset']=='train']['rxn_smiles'])\n",
    "reaction_smiles = list(data.loc[data['dataset']=='train']['rxn_smiles']) # get a list of rxn labeled as train \n",
    "\n",
    "#def extract_one_template(reaction_smiles): \n",
    "def rxnTemplateFromOneSmarts(reaction_smiles): # bracket the templated reactants smiles \n",
    "    retro_canonical = process_an_example(reaction_smiles, super_general=True) # get the reaction template\n",
    "    if retro_canonical is None:\n",
    "        return None\n",
    "    return '({})>>{}'.format(retro_canonical.split('>>')[0], retro_canonical.split('>>')[1])"
   ]
  },
  {
   "cell_type": "code",
   "execution_count": 5,
   "metadata": {},
   "outputs": [
    {
     "name": "stdout",
     "output_type": "stream",
     "text": [
      "Requirement already satisfied: joblib in /home/gxk/software/miniconda3/envs/rdkit3/lib/python3.6/site-packages\r\n"
     ]
    }
   ],
   "source": [
    "!pip install joblib\n",
    "from joblib import Parallel, delayed"
   ]
  },
  {
   "cell_type": "code",
   "execution_count": 6,
   "metadata": {},
   "outputs": [
    {
     "name": "stderr",
     "output_type": "stream",
     "text": [
      "[Parallel(n_jobs=4)]: Done 296 tasks      | elapsed:    1.3s\n",
      "[Parallel(n_jobs=4)]: Done 2024 tasks      | elapsed:    8.8s\n",
      "[Parallel(n_jobs=4)]: Done 4904 tasks      | elapsed:   21.1s\n",
      "[Parallel(n_jobs=4)]: Done 8936 tasks      | elapsed:   38.2s\n",
      "[Parallel(n_jobs=4)]: Done 14120 tasks      | elapsed:  1.0min\n",
      "[Parallel(n_jobs=4)]: Done 20456 tasks      | elapsed:  1.5min\n",
      "[Parallel(n_jobs=4)]: Done 27944 tasks      | elapsed:  2.0min\n",
      "[Parallel(n_jobs=4)]: Done 36584 tasks      | elapsed:  2.6min\n",
      "[Parallel(n_jobs=4)]: Done 40008 out of 40008 | elapsed:  2.8min finished\n"
     ]
    }
   ],
   "source": [
    "#all_retro_canonical_uni = Parallel(n_jobs=num_cores, verbose=3)(delayed(extract_one_template)(i) for i in inputs)\n",
    "all_retro_canonical_uni = Parallel(n_jobs=num_cores, verbose=3)(delayed(rxnTemplateFromOneSmarts)(smarts) for smarts in reaction_smiles)\n",
    "\n",
    "templates = {}\n",
    "for retro_canonical_uni in all_retro_canonical_uni:\n",
    "    if retro_canonical_uni in templates:\n",
    "        templates[retro_canonical_uni] += 1\n",
    "    else:\n",
    "        templates[retro_canonical_uni] = 1 "
   ]
  },
  {
   "cell_type": "code",
   "execution_count": 7,
   "metadata": {},
   "outputs": [
    {
     "name": "stdout",
     "output_type": "stream",
     "text": [
      "NumOfTemplatesExtractedFrom50kRxns: 1353\n"
     ]
    }
   ],
   "source": [
    "print('NumOfTemplatesExtractedFrom50kRxns:', len(templates))\n",
    "with open('../data/templates_general.json', 'w') as fid:\n",
    "#with open('../data/templates_general.json', 'wb') as fid:\n",
    "    json.dump(templates, fid, indent=4)"
   ]
  },
  {
   "cell_type": "code",
   "execution_count": 8,
   "metadata": {},
   "outputs": [
    {
     "name": "stdout",
     "output_type": "stream",
     "text": [
      "2875     ([C;H0;+0:1]-[NH;+0:2])>>O-[C;H0;+0:1].[NH2;+0:2]\n",
      "1797     ([OH;+0:1])>>C-[O;H0;+0:1]\n",
      "1322     ([C;H0;+0:1]-[N;H0;+0:2])>>O-[C;H0;+0:1].[NH;+0:2]\n",
      "1277     ([NH2;+0:1])>>O=[N+;H0:1]-[O-]\n",
      "1213     ([NH;+0:1]-[c;H0;+0:2])>>Cl-[c;H0;+0:2].[NH2;+0:1]\n"
     ]
    }
   ],
   "source": [
    "#for template, count in sorted(templates.iteritems(), key=lambda x: x[1], reverse=True)[:50]:\n",
    "for template, count in sorted(templates.items(), key=lambda x: x[1], reverse=True)[:5]:\n",
    "    print('{}     {}'.format(count, template))"
   ]
  },
  {
   "cell_type": "code",
   "execution_count": 9,
   "metadata": {},
   "outputs": [
    {
     "data": {
      "text/plain": [
       "571"
      ]
     },
     "execution_count": 9,
     "metadata": {},
     "output_type": "execute_result"
    }
   ],
   "source": [
    "sum([count == 1 for count in templates.values()])"
   ]
  },
  {
   "cell_type": "markdown",
   "metadata": {},
   "source": [
    "# What test_one function do?"
   ]
  },
  {
   "cell_type": "code",
   "execution_count": 10,
   "metadata": {},
   "outputs": [
    {
     "name": "stdout",
     "output_type": "stream",
     "text": [
      "Look the figure down below:\n",
      "The bond between 1 and 15 is likely to form in reaction\n",
      "The bond between 6 and 7 is likely to form in reaction\n"
     ]
    },
    {
     "data": {
      "image/png": "[encoded data removed]",
      "text/plain": [
       "<rdkit.Chem.rdchem.Mol at 0x7fa90675f080>"
      ]
     },
     "execution_count": 10,
     "metadata": {},
     "output_type": "execute_result"
    }
   ],
   "source": [
    "import rdkit.Chem as Chem\n",
    "reaction_smiles = data.loc[data['dataset']=='train']['rxn_smiles'][5]\n",
    "retro_canonical = rxnTemplateFromOneSmarts(reaction_smiles) \n",
    "product = Chem.MolFromSmiles(reaction_smiles.split('>')[-1])\n",
    "pattern = Chem.MolFromSmarts(retro_canonical[1:].split(')>>')[0]) \n",
    "#matches = list(itertools.chain(*[x for x in product.GetSubstructMatches(pattern)]))\n",
    "matches = [x for x in product.GetSubstructMatches(pattern)] \n",
    "print('Look the figure down below:')\n",
    "for bondIndexes in matches:\n",
    "    indexes = []\n",
    "    for i, atom in enumerate(product.GetAtoms()): \n",
    "        if i in bondIndexes:\n",
    "            indexes.append(atom.GetProp('molAtomMapNumber')) \n",
    "    print('The bond between {} and {} is likely to form in reaction'.format(indexes[0], indexes[1]))    \n",
    "product"
   ]
  },
  {
   "cell_type": "markdown",
   "metadata": {},
   "source": [
    "# Content of num_matches is a collection of mapping numbers indicate which bond is likely to form for each reaction"
   ]
  },
  {
   "cell_type": "code",
   "execution_count": 11,
   "metadata": {},
   "outputs": [
    {
     "name": "stderr",
     "output_type": "stream",
     "text": [
      "[Parallel(n_jobs=4)]: Done 296 tasks      | elapsed:    1.4s\n",
      "[Parallel(n_jobs=4)]: Done 2024 tasks      | elapsed:    8.9s\n",
      "[Parallel(n_jobs=4)]: Done 4904 tasks      | elapsed:   21.4s\n",
      "[Parallel(n_jobs=4)]: Done 8936 tasks      | elapsed:   38.7s\n",
      "[Parallel(n_jobs=4)]: Done 14120 tasks      | elapsed:  1.0min\n",
      "[Parallel(n_jobs=4)]: Done 20456 tasks      | elapsed:  1.5min\n",
      "[Parallel(n_jobs=4)]: Done 27944 tasks      | elapsed:  2.0min\n",
      "[Parallel(n_jobs=4)]: Done 36584 tasks      | elapsed:  2.6min\n",
      "[Parallel(n_jobs=4)]: Done 40008 out of 40008 | elapsed:  2.9min finished\n"
     ]
    }
   ],
   "source": [
    "#import rdkit.Chem as Chem\n",
    "\n",
    "def test_one(reaction_smiles):\n",
    "    #retro_canonical = extract_one_template(reaction_smiles)\n",
    "    retro_canonical = rxnTemplateFromOneSmarts(reaction_smiles)\n",
    "    if retro_canonical is None:\n",
    "        return -1\n",
    "    product = Chem.MolFromSmiles(reaction_smiles.split('>')[-1])\n",
    "    pattern = Chem.MolFromSmarts(retro_canonical[1:].split(')>>')[0])\n",
    "    matches = set(frozenset(x) for x in product.GetSubstructMatches(pattern))\n",
    "    return len(matches)\n",
    "\n",
    "inputs = data.loc[data['dataset']=='train']['rxn_smiles']\n",
    "num_matches = Parallel(n_jobs=num_cores, verbose=3)(delayed(test_one)(i) for i in inputs)"
   ]
  },
  {
   "cell_type": "markdown",
   "metadata": {},
   "source": [
    "# The figure tells us most product has only one bond that could be formed in reaction"
   ]
  },
  {
   "cell_type": "code",
   "execution_count": 12,
   "metadata": {},
   "outputs": [
    {
     "data": {
      "text/plain": [
       "Text(0,0.5,'Number of examples')"
      ]
     },
     "execution_count": 12,
     "metadata": {},
     "output_type": "execute_result"
    },
    {
     "data": {
      "image/png": "[encoded data removed]",
      "text/plain": [
       "<matplotlib.figure.Figure at 0x7fa900ad22e8>"
      ]
     },
     "metadata": {},
     "output_type": "display_data"
    }
   ],
   "source": [
    "import matplotlib.pyplot as plt\n",
    "%matplotlib inline\n",
    "df = pd.DataFrame({'pop': num_matches})\n",
    "plot = df['pop'].hist(bins=[x+0.5 for x in range(10)])\n",
    "plot.set_title(\"Template self-specificity ({} total examples)\".format(len(num_matches)))\n",
    "plot.set_xlabel(\"Number of matches\")\n",
    "plot.set_ylabel(\"Number of examples\")"
   ]
  },
  {
   "cell_type": "code",
   "execution_count": null,
   "metadata": {},
   "outputs": [],
   "source": []
  }
 ],
 "metadata": {
  "kernelspec": {
   "display_name": "Python 3",
   "language": "python",
   "name": "python3"
  },
  "language_info": {
   "codemirror_mode": {
    "name": "ipython",
    "version": 3
   },
   "file_extension": ".py",
   "mimetype": "text/x-python",
   "name": "python",
   "nbconvert_exporter": "python",
   "pygments_lexer": "ipython3",
   "version": "3.6.3"
  },
  "toc": {
   "nav_menu": {},
   "number_sections": true,
   "sideBar": true,
   "skip_h1_title": false,
   "toc_cell": false,
   "toc_position": {},
   "toc_section_display": "block",
   "toc_window_display": false
  }
 },
 "nbformat": 4,
 "nbformat_minor": 2
}
